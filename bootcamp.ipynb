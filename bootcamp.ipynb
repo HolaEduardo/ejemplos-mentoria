{
 "cells": [
  {
   "cell_type": "markdown",
   "id": "af815e245224a78b",
   "metadata": {},
   "source": [
    "# Conceptos Clave de la Programación\n",
    "\n",
    "## 1. Algoritmo\n",
    "\n",
    "Un **algoritmo** es una secuencia de pasos lógicos y ordenados para resolver un problema específico.\n",
    "\n",
    "### Características de un buen algoritmo:\n",
    "- **Finito**: Debe terminar en un número limitado de pasos\n",
    "- **Definido**: Cada paso debe estar claramente especificado\n",
    "- **Entrada**: Puede tener cero o más entradas\n",
    "- **Salida**: Debe producir al menos una salida\n",
    "- **Efectivo**: Debe ser realizable\n",
    "\n",
    "### Ejemplo de algoritmo para encontrar el mayor de tres números:\n",
    "\n",
    "```\n",
    "INICIO\n",
    "    LEER numero1, numero2, numero3\n",
    "    mayor = numero1\n",
    "\n",
    "    SI numero2 > mayor ENTONCES\n",
    "        mayor = numero2\n",
    "    FIN SI\n",
    "\n",
    "    SI numero3 > mayor ENTONCES\n",
    "        mayor = numero3\n",
    "    FIN SI\n",
    "\n",
    "    ESCRIBIR \"El mayor número es:\", mayor\n",
    "FIN\n",
    "```\n"
   ]
  },
  {
   "cell_type": "code",
   "execution_count": 3,
   "id": "4fcc696a018f6619",
   "metadata": {
    "ExecuteTime": {
     "end_time": "2025-08-24T01:13:07.854649Z",
     "start_time": "2025-08-24T01:11:34.808510Z"
    }
   },
   "outputs": [
    {
     "name": "stdout",
     "output_type": "stream",
     "text": [
      "El mayor número es: 23\n"
     ]
    }
   ],
   "source": [
    "numero1 = int(input(\"Ingresa el primer número: \"))\n",
    "numero2 = int(input(\"Ingresa el segundo número: \"))\n",
    "numero3 = int(input(\"Ingresa el tercer número: \"))\n",
    "\n",
    "# Suponemos que el mayor es el primero\n",
    "mayor = numero1\n",
    "\n",
    "# Comparamos con el segundo\n",
    "if numero2 > mayor:\n",
    "    mayor = numero2\n",
    "\n",
    "# Comparamos con el tercero\n",
    "if numero3 > mayor:\n",
    "    mayor = numero3\n",
    "\n",
    "# Mostramos el resultado\n",
    "print(\"El mayor número es:\", mayor)"
   ]
  },
  {
   "cell_type": "markdown",
   "id": "cc5b8b8e6d933116",
   "metadata": {},
   "source": [
    "## 2. Variables y Tipos de Datos\n",
    "\n",
    "Las **variables** son contenedores que almacenan valores que pueden cambiar durante la ejecución del programa.\n",
    "\n",
    "### Tipos de datos fundamentales:\n",
    "- **Enteros (int)**: Números sin decimales\n",
    "- **Flotantes (float)**: Números con decimales\n",
    "- **Cadenas (string)**: Texto\n",
    "- **Booleanos (bool)**: Verdadero o Falso\n",
    "\n",
    "### Pseudocódigo - Declaración y uso de variables:\n",
    "\n",
    "```\n",
    "INICIO\n",
    "    // Declaración de variables\n",
    "    nombre = \"Juan\"           // string\n",
    "    edad = 25                 // entero\n",
    "    salario = 1500.50         // flotante\n",
    "    es_estudiante = VERDADERO  // booleano\n",
    "\n",
    "    ESCRIBIR \"Nombre:\", nombre\n",
    "    ESCRIBIR \"Edad:\", edad\n",
    "    ESCRIBIR \"Salario:\", salario\n",
    "    ESCRIBIR \"Es estudiante:\", es_estudiante\n",
    "FIN\n",
    "```"
   ]
  },
  {
   "cell_type": "code",
   "execution_count": 12,
   "id": "b1a95dc9deb92e77",
   "metadata": {
    "ExecuteTime": {
     "end_time": "2025-08-24T01:15:35.648372Z",
     "start_time": "2025-08-24T01:15:35.625374Z"
    }
   },
   "outputs": [
    {
     "name": "stdout",
     "output_type": "stream",
     "text": [
      "Nombre: Juan\n",
      "Edad: 25\n",
      "Salario: 1500.5\n",
      "Es estudiante: True\n"
     ]
    }
   ],
   "source": [
    "nombre = \"Juan\"           # string\n",
    "edad = 25                 # entero\n",
    "salario = 1500.50         # flotante\n",
    "es_estudiante = True      # booleano\n",
    "print(\"Nombre: \" + nombre)\n",
    "print(\"Edad:\", edad)\n",
    "print(\"Salario:\", salario)\n",
    "print(\"Es estudiante:\", es_estudiante)"
   ]
  },
  {
   "cell_type": "markdown",
   "id": "cd46105aac37fa1a",
   "metadata": {},
   "source": [
    "## 3. Estructuras de Control\n",
    "\n",
    "### 3.1 Condicionales (if-else)\n",
    "\n",
    "Permiten tomar decisiones en el programa basadas en condiciones.\n",
    "\n",
    "```\n",
    "INICIO\n",
    "    LEER edad\n",
    "\n",
    "    SI edad >= 18 ENTONCES\n",
    "        ESCRIBIR \"Eres mayor de edad\"\n",
    "    SINO\n",
    "        ESCRIBIR \"Eres menor de edad\"\n",
    "    FIN SI\n",
    "FIN\n",
    "```"
   ]
  },
  {
   "cell_type": "code",
   "execution_count": 17,
   "id": "c669b45faf3c449c",
   "metadata": {
    "ExecuteTime": {
     "end_time": "2025-08-24T01:16:50.551510Z",
     "start_time": "2025-08-24T01:16:47.018483Z"
    }
   },
   "outputs": [
    {
     "name": "stdout",
     "output_type": "stream",
     "text": [
      "Eres mayor de edad\n"
     ]
    }
   ],
   "source": [
    "edad = int(input(\"Ingresa tu edad: \"))\n",
    "if edad >= 18:\n",
    "    print(\"Eres mayor de edad\")\n",
    "else:\n",
    "    print(\"Eres menor de edad\")"
   ]
  },
  {
   "cell_type": "markdown",
   "id": "d2b155ce27c0cba8",
   "metadata": {},
   "source": [
    "### 3.2 Bucles (Loops)\n",
    "\n",
    "Permiten repetir un bloque de código múltiples veces.\n",
    "\n",
    "#### Bucle For (repetición controlada):\n",
    "```\n",
    "INICIO\n",
    "    PARA i = 1 HASTA 10 HACER\n",
    "        ESCRIBIR \"Número:\", i\n",
    "    FIN PARA\n",
    "FIN\n",
    "```"
   ]
  },
  {
   "cell_type": "code",
   "execution_count": 18,
   "id": "ee25ab9dee324ff2",
   "metadata": {
    "ExecuteTime": {
     "end_time": "2025-08-24T01:18:11.098143Z",
     "start_time": "2025-08-24T01:18:11.084138Z"
    }
   },
   "outputs": [
    {
     "name": "stdout",
     "output_type": "stream",
     "text": [
      "Número: 1\n",
      "Número: 2\n",
      "Número: 3\n",
      "Número: 4\n",
      "Número: 5\n",
      "Número: 6\n",
      "Número: 7\n",
      "Número: 8\n",
      "Número: 9\n",
      "Número: 10\n"
     ]
    }
   ],
   "source": [
    "for i in range(1, 11):\n",
    "    print(\"Número:\", i)"
   ]
  },
  {
   "cell_type": "markdown",
   "id": "c2d632f63f86bfd4",
   "metadata": {},
   "source": [
    "## 4. Funciones\n",
    "\n",
    "Las **funciones** son bloques de código reutilizables que realizan una tarea específica.\n",
    "\n",
    "### Pseudocódigo - Función para calcular el área de un círculo:\n",
    "\n",
    "```\n",
    "FUNCION calcularAreaCirculo(radio)\n",
    "    CONSTANTE pi = 3.14159\n",
    "    area = pi * radio * radio\n",
    "    RETORNAR area\n",
    "FIN FUNCION\n",
    "\n",
    "INICIO\n",
    "    LEER radioCirculo\n",
    "    resultado = calcularAreaCirculo(radioCirculo)\n",
    "    ESCRIBIR \"El área del círculo es:\", resultado\n",
    "FIN\n",
    "```"
   ]
  },
  {
   "cell_type": "code",
   "execution_count": 4,
   "id": "6ac80881475c82a8",
   "metadata": {
    "ExecuteTime": {
     "end_time": "2025-08-24T01:19:47.271500Z",
     "start_time": "2025-08-24T01:19:41.582490Z"
    }
   },
   "outputs": [
    {
     "name": "stdout",
     "output_type": "stream",
     "text": [
      "El área del círculo es: 1963.4937499999999\n"
     ]
    }
   ],
   "source": [
    "radio = float(input(\"Ingresa el radio del círculo: \"))\n",
    "def calcular_area_circulo(_radio):\n",
    "    pi = 3.14159\n",
    "    _area = pi * _radio * _radio\n",
    "    return _area\n",
    "area = calcular_area_circulo(radio)\n",
    "print(\"El área del círculo es:\", area)"
   ]
  },
  {
   "cell_type": "markdown",
   "id": "4746a822edb171db",
   "metadata": {},
   "source": [
    "#### Bucle While (repetición condicional):\n",
    "El bucle `while` repite un bloque de código mientras una condición sea verdadera.\n",
    "```\n",
    "INICIO\n",
    "    contador = 1\n",
    "\n",
    "    MIENTRAS contador <= 5 HACER\n",
    "        ESCRIBIR \"Iteración:\", contador\n",
    "        contador = contador + 1\n",
    "    FIN MIENTRAS\n",
    "FIN\n",
    "```"
   ]
  },
  {
   "cell_type": "code",
   "execution_count": 8,
   "id": "bc0d5ac1bacbd4ec",
   "metadata": {
    "ExecuteTime": {
     "end_time": "2025-08-24T01:21:44.968557Z",
     "start_time": "2025-08-24T01:21:44.826557Z"
    }
   },
   "outputs": [
    {
     "name": "stdout",
     "output_type": "stream",
     "text": [
      "Iteración: 1\n",
      "Iteración: 2\n",
      "Iteración: 3\n",
      "Iteración: 4\n",
      "Iteración: 5\n",
      "Fin de la iteración\n",
      "Fin del bucle\n"
     ]
    }
   ],
   "source": [
    "contador = 1\n",
    "while contador <= 5:\n",
    "    print(\"Iteración:\", contador)\n",
    "    contador += 1\n",
    "print(\"Fin de la iteración\")\n",
    "print(\"Fin del bucle\")"
   ]
  },
  {
   "cell_type": "markdown",
   "id": "a8c01f1fa3becf51",
   "metadata": {},
   "source": [
    "\n",
    "## 5. Estructuras de Datos\n",
    "\n",
    "### 5.1 Arreglos (Arrays/Listas)\n",
    "\n",
    "Colecciones ordenadas de elementos del mismo tipo.\n",
    "\n",
    "```\n",
    "INICIO\n",
    "    // Declarar un arreglo de números\n",
    "    numeros = [10, 25, 30, 45, 50]\n",
    "\n",
    "    // Acceder a elementos\n",
    "    ESCRIBIR \"Primer elemento:\", numeros[0]\n",
    "\n",
    "    // Recorrer el arreglo\n",
    "    PARA i = 0 HASTA longitud(numeros)-1 HACER\n",
    "        ESCRIBIR \"Elemento\", i, \":\", numeros[i]\n",
    "    FIN PARA\n",
    "FIN\n",
    "```"
   ]
  },
  {
   "cell_type": "code",
   "execution_count": 9,
   "id": "8c149e962bebf9cc",
   "metadata": {
    "ExecuteTime": {
     "end_time": "2025-08-24T01:25:50.428018Z",
     "start_time": "2025-08-24T01:25:50.415012Z"
    }
   },
   "outputs": [
    {
     "name": "stdout",
     "output_type": "stream",
     "text": [
      "Elemento 0 : 10\n",
      "Elemento 1 : casa\n",
      "Elemento 2 : 30\n",
      "Elemento 3 : 45\n",
      "Elemento 4 : 50\n"
     ]
    }
   ],
   "source": [
    "numeros = [10, \"casa\", 30, 45, 50]\n",
    "\n",
    "for i in range(len(numeros)):\n",
    "    print(\"Elemento\", i, \":\", numeros[i])"
   ]
  },
  {
   "cell_type": "markdown",
   "id": "1208873a80c4cf98",
   "metadata": {},
   "source": [
    "\n",
    "### 5.2 Diccionarios (Mapas)\n",
    "\n",
    "Estructuras que almacenan pares clave-valor.\n",
    "\n",
    "```\n",
    "INICIO\n",
    "    // Crear un diccionario\n",
    "    estudiante = {\n",
    "        \"nombre\": \"Ana\",\n",
    "        \"edad\": 20,\n",
    "        \"carrera\": \"Ingeniería\"\n",
    "    }\n",
    "\n",
    "    // Acceder a valores\n",
    "    ESCRIBIR \"Nombre:\", estudiante[\"nombre\"]\n",
    "    ESCRIBIR \"Edad:\", estudiante[\"edad\"]\n",
    "FIN\n",
    "```"
   ]
  },
  {
   "cell_type": "code",
   "execution_count": 31,
   "id": "93b2421a3e70679b",
   "metadata": {
    "ExecuteTime": {
     "end_time": "2025-08-24T01:26:35.880904Z",
     "start_time": "2025-08-24T01:26:35.871903Z"
    }
   },
   "outputs": [
    {
     "name": "stdout",
     "output_type": "stream",
     "text": [
      "Nombre: Ana\n",
      "Edad: 20\n",
      "Carrera: Ingeniería\n"
     ]
    }
   ],
   "source": [
    "estudiantes = {\n",
    "    \"nombre\": \"Ana\",\n",
    "    \"edad\": 20,\n",
    "    \"carrera\": \"Ingeniería\"\n",
    "}\n",
    "print(\"Nombre:\", estudiantes[\"nombre\"])\n",
    "print(\"Edad:\", estudiantes[\"edad\"])\n",
    "print(\"Carrera:\", estudiantes[\"carrera\"])"
   ]
  },
  {
   "cell_type": "markdown",
   "id": "25cba843342fd41d",
   "metadata": {},
   "source": [
    "## 6. Algoritmos de Búsqueda y Ordenamiento\n",
    "\n",
    "### 6.1 Búsqueda Lineal\n",
    "\n",
    "```\n",
    "FUNCION busquedaLineal(arreglo, elementoBuscado)\n",
    "    PARA i = 0 HASTA longitud(arreglo)-1 HACER\n",
    "        SI arreglo[i] = elementoBuscado ENTONCES\n",
    "            RETORNAR i  // Posición encontrada\n",
    "        FIN SI\n",
    "    FIN PARA\n",
    "    RETORNAR -1  // No encontrado\n",
    "FIN FUNCION\n",
    "```"
   ]
  },
  {
   "cell_type": "code",
   "execution_count": 36,
   "id": "3af84eba9290d19",
   "metadata": {
    "ExecuteTime": {
     "end_time": "2025-08-24T01:29:55.193765Z",
     "start_time": "2025-08-24T01:29:55.182765Z"
    }
   },
   "outputs": [
    {
     "name": "stdout",
     "output_type": "stream",
     "text": [
      "-1\n"
     ]
    }
   ],
   "source": [
    "def busqueda_lineal(arreglo, elemento_buscado):\n",
    "    for i in range(len(arreglo)):\n",
    "        if arreglo[i] == elemento_buscado:\n",
    "            return i\n",
    "    return -1\n",
    "numeros = [10, 25, 30, 45, 50]\n",
    "elemento = 51\n",
    "posicion = busqueda_lineal(numeros, elemento)\n",
    "print(posicion)"
   ]
  },
  {
   "cell_type": "markdown",
   "id": "598540e1e339283e",
   "metadata": {},
   "source": [
    "## Consejos para Programar Mejor\n",
    "\n",
    "1. **Planifica antes de codificar**: Define el problema y diseña la solución\n",
    "2. **Usa nombres descriptivos**: Variables y funciones con nombres claros\n",
    "3. **Comenta tu código**: Explica la lógica compleja\n",
    "4. **Divide y vencerás**: Descompón problemas grandes en partes pequeñas\n",
    "5. **Prueba tu código**: Verifica que funcione correctamente con diferentes entradas\n",
    "6. **Refactoriza**: Mejora y optimiza tu código regularmente"
   ]
  },
  {
   "cell_type": "code",
   "execution_count": null,
   "id": "b64657f3",
   "metadata": {},
   "outputs": [
    {
     "name": "stdout",
     "output_type": "stream",
     "text": [
      "5\n"
     ]
    }
   ],
   "source": [
    "initial = 0\n",
    "def recursion(init):\n",
    "    if init < 5:\n",
    "        init += 1\n",
    "        return recursion(init)\n",
    "    else: \n",
    "        return init\n",
    "    \n",
    "result = recursion(initial)\n",
    "print(result)\n"
   ]
  },
  {
   "cell_type": "code",
   "execution_count": null,
   "id": "485aaa71",
   "metadata": {},
   "outputs": [],
   "source": [
    "import time\n",
    "\n",
    "def binary_search(lista, objetivo, inicio=0, fin=None):\n",
    "    if fin is None:\n",
    "        fin = len(lista) - 1\n",
    "\n",
    "    if inicio > fin:\n",
    "        return -1  # No encontrado\n",
    "\n",
    "    medio = (inicio + fin) // 2\n",
    "    if lista[medio] == objetivo:\n",
    "        return medio\n",
    "    elif lista[medio] > objetivo:\n",
    "        return binary_search(lista, objetivo, inicio, medio - 1)\n",
    "    else:\n",
    "        return binary_search(lista, objetivo, medio + 1, fin)\n",
    "\n",
    "\n",
    "# Ejemplo\n",
    "cadena = [1, 3, 13, 13, 23]  # debe estar ordenada\n",
    "\n",
    "# Medir tiempo\n",
    "inicio = time.time()\n",
    "print(\"Resultado 13:\", binary_search(cadena, 13))\n",
    "print(\"Resultado 23:\", binary_search(cadena, 23))\n",
    "print(\"Resultado 99:\", binary_search(cadena, 99))\n",
    "fin = time.time()\n",
    "\n",
    "print(f\"Tiempo de ejecución: {fin - inicio:.10f} segundos\")\n"
   ]
  },
  {
   "cell_type": "code",
   "execution_count": 25,
   "id": "81943b22",
   "metadata": {},
   "outputs": [
    {
     "name": "stdout",
     "output_type": "stream",
     "text": [
      "Linear: (999998, 34.17430000263266)\n",
      "Binary: (999998, 0.009800001862458885)\n"
     ]
    }
   ],
   "source": [
    "import time\n",
    "\n",
    "def linear_search(lista, objetivo):\n",
    "    inicio_tiempo = time.perf_counter()  # más preciso que time.time()\n",
    "    for i in range(len(lista)):\n",
    "        if lista[i] == objetivo:\n",
    "            fin_tiempo = time.perf_counter()\n",
    "            duracion = (fin_tiempo - inicio_tiempo) * 1000\n",
    "            return i, duracion\n",
    "    fin_tiempo = time.perf_counter()\n",
    "    duracion = (fin_tiempo - inicio_tiempo) * 1000\n",
    "    return -1, duracion\n",
    "\n",
    "\n",
    "def binary_search(lista, objetivo):\n",
    "    inicio_tiempo = time.perf_counter()\n",
    "    izquierda, derecha = 0, len(lista) - 1\n",
    "    while izquierda <= derecha:\n",
    "        medio = (izquierda + derecha) // 2\n",
    "        if lista[medio] == objetivo:\n",
    "            fin_tiempo = time.perf_counter()\n",
    "            duracion = (fin_tiempo - inicio_tiempo) * 1000\n",
    "            return medio, duracion\n",
    "        elif lista[medio] < objetivo:\n",
    "            izquierda = medio + 1\n",
    "        else:\n",
    "            derecha = medio - 1\n",
    "    fin_tiempo = time.perf_counter()\n",
    "    duracion = (fin_tiempo - inicio_tiempo) * 1000\n",
    "    return -1, duracion\n",
    "\n",
    "\n",
    "# =======================\n",
    "# Pruebas\n",
    "# =======================\n",
    "cadena = list(range(1, 1_000_001))  # lista de 1 millón de elementos\n",
    "\n",
    "print(\"Linear:\", linear_search(cadena, 999999))\n",
    "print(\"Binary:\", binary_search(cadena, 999999))\n"
   ]
  },
  {
   "cell_type": "code",
   "execution_count": 26,
   "id": "5ba630ea",
   "metadata": {},
   "outputs": [
    {
     "name": "stdout",
     "output_type": "stream",
     "text": [
      "Índice: 4, Tiempo: 0.001500 ms\n"
     ]
    }
   ],
   "source": [
    "import time\n",
    "\n",
    "def binary_search_recursive(lista, objetivo, izquierda, derecha, inicio_tiempo=None):\n",
    "    # Medimos el tiempo solo en la primera llamada\n",
    "    if inicio_tiempo is None:\n",
    "        inicio_tiempo = time.perf_counter()\n",
    "\n",
    "    if izquierda > derecha:\n",
    "        fin_tiempo = time.perf_counter()\n",
    "        duracion = (fin_tiempo - inicio_tiempo) * 1000  # ms\n",
    "        return -1, duracion\n",
    "\n",
    "    medio = (izquierda + derecha) // 2\n",
    "\n",
    "    if lista[medio] == objetivo:\n",
    "        fin_tiempo = time.perf_counter()\n",
    "        duracion = (fin_tiempo - inicio_tiempo) * 1000\n",
    "        return medio, duracion\n",
    "    elif lista[medio] < objetivo:\n",
    "        return binary_search_recursive(lista, objetivo, medio + 1, derecha, inicio_tiempo)\n",
    "    else:\n",
    "        return binary_search_recursive(lista, objetivo, izquierda, medio - 1, inicio_tiempo)\n",
    "\n",
    "\n",
    "# Ejemplo de uso\n",
    "lista = [1, 3, 7, 9, 13, 23, 45, 67, 89, 100]\n",
    "objetivo = 13\n",
    "\n",
    "indice, tiempo = binary_search_recursive(lista, objetivo, 0, len(lista) - 1)\n",
    "print(f\"Índice: {indice}, Tiempo: {tiempo:.6f} ms\")\n"
   ]
  }
 ],
 "metadata": {
  "kernelspec": {
   "display_name": ".venv (3.12.6)",
   "language": "python",
   "name": "python3"
  },
  "language_info": {
   "codemirror_mode": {
    "name": "ipython",
    "version": 3
   },
   "file_extension": ".py",
   "mimetype": "text/x-python",
   "name": "python",
   "nbconvert_exporter": "python",
   "pygments_lexer": "ipython3",
   "version": "3.12.6"
  }
 },
 "nbformat": 4,
 "nbformat_minor": 5
}
