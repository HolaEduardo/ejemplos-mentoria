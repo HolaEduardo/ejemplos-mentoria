{
 "cells": [
  {
   "metadata": {},
   "cell_type": "code",
   "outputs": [],
   "execution_count": null,
   "source": [
    "# # Operadores en Python\n",
    "#\n",
    "# Los operadores son símbolos especiales que nos permiten realizar operaciones sobre variables y valores. Python tiene varios tipos de operadores que veremos a continuación.\n"
   ],
   "id": "e9b3f345669bd212"
  },
  {
   "metadata": {},
   "cell_type": "code",
   "outputs": [],
   "execution_count": null,
   "source": [
    "# ## 1. Operadores Aritméticos\n",
    "#\n",
    "# Se utilizan para realizar operaciones matemáticas básicas.\n"
   ],
   "id": "248ff6e92c7fb27d"
  },
  {
   "metadata": {},
   "cell_type": "code",
   "outputs": [],
   "execution_count": null,
   "source": [
    "# Operadores Aritméticos\n",
    "a = 10\n",
    "b = 3\n",
    "\n",
    "print(\"Valores:\", f\"a = {a}, b = {b}\")\n",
    "print()\n",
    "\n",
    "# Suma\n",
    "suma = a + b\n",
    "print(f\"Suma: {a} + {b} = {suma}\")\n",
    "\n",
    "# Resta\n",
    "resta = a - b\n",
    "print(f\"Resta: {a} - {b} = {resta}\")\n",
    "\n",
    "# Multiplicación\n",
    "multiplicacion = a * b\n",
    "print(f\"Multiplicación: {a} * {b} = {multiplicacion}\")\n",
    "\n",
    "# División\n",
    "division = a / b\n",
    "print(f\"División: {a} / {b} = {division}\")\n",
    "\n",
    "# División entera (floor division)\n",
    "division_entera = a // b\n",
    "print(f\"División entera: {a} // {b} = {division_entera}\")\n",
    "\n",
    "# Módulo (resto de la división)\n",
    "modulo = a % b\n",
    "print(f\"Módulo: {a} % {b} = {modulo}\")\n",
    "\n",
    "# Potencia\n",
    "potencia = a ** b\n",
    "print(f\"Potencia: {a} ** {b} = {potencia}\")\n"
   ],
   "id": "d931295febf29822"
  },
  {
   "metadata": {},
   "cell_type": "code",
   "outputs": [],
   "execution_count": null,
   "source": [
    "# ## 2. Operadores de Comparación\n",
    "#\n",
    "# Se utilizan para comparar valores y devuelven True o False.\n"
   ],
   "id": "6baf7a0e35b21be1"
  },
  {
   "metadata": {},
   "cell_type": "code",
   "outputs": [],
   "execution_count": null,
   "source": [
    "# Operadores de Comparación\n",
    "x = 15\n",
    "y = 10\n",
    "\n",
    "print(\"Valores:\", f\"x = {x}, y = {y}\")\n",
    "print()\n",
    "\n",
    "# Igual a\n",
    "print(f\"x == y: {x == y}\")\n",
    "\n",
    "# No igual a\n",
    "print(f\"x != y: {x != y}\")\n",
    "\n",
    "# Mayor que\n",
    "print(f\"x > y: {x > y}\")\n",
    "\n",
    "# Menor que\n",
    "print(f\"x < y: {x < y}\")\n",
    "\n",
    "# Mayor o igual que\n",
    "print(f\"x >= y: {x >= y}\")\n",
    "\n",
    "# Menor o igual que\n",
    "print(f\"x <= y: {x <= y}\")\n"
   ],
   "id": "df9f9c31085becc4"
  },
  {
   "metadata": {},
   "cell_type": "code",
   "outputs": [],
   "execution_count": null,
   "source": [
    "# ## 3. Operadores Lógicos\n",
    "#\n",
    "# Se utilizan para combinar expresiones condicionales.\n"
   ],
   "id": "40988ac5fd1c56cf"
  },
  {
   "metadata": {},
   "cell_type": "code",
   "outputs": [],
   "execution_count": null,
   "source": [
    "# Operadores Lógicos\n",
    "p = True\n",
    "q = False\n",
    "\n",
    "print(\"Valores:\", f\"p = {p}, q = {q}\")\n",
    "print()\n",
    "\n",
    "# AND lógico\n",
    "print(f\"p and q: {p and q}\")\n",
    "print(f\"p and True: {p and True}\")\n",
    "\n",
    "# OR lógico\n",
    "print(f\"p or q: {p or q}\")\n",
    "print(f\"q or False: {q or False}\")\n",
    "\n",
    "# NOT lógico\n",
    "print(f\"not p: {not p}\")\n",
    "print(f\"not q: {not q}\")\n",
    "\n",
    "# Ejemplos con números\n",
    "numero = 25\n",
    "print(f\"\\nNúmero: {numero}\")\n",
    "print(f\"¿Es mayor que 20 Y menor que 30?: {numero > 20 and numero < 30}\")\n",
    "print(f\"¿Es menor que 10 O mayor que 50?: {numero < 10 or numero > 50}\")\n"
   ],
   "id": "c7afdf67f82e684d"
  },
  {
   "metadata": {},
   "cell_type": "code",
   "outputs": [],
   "execution_count": null,
   "source": [
    "# ## 4. Operadores de Asignación\n",
    "#\n",
    "# Se utilizan para asignar valores a las variables.\n"
   ],
   "id": "5066e12b019fab3d"
  },
  {
   "metadata": {
    "ExecuteTime": {
     "end_time": "2025-09-10T00:07:41.313288Z",
     "start_time": "2025-09-10T00:07:41.302317Z"
    }
   },
   "cell_type": "code",
   "source": [
    "# Operadores de Asignación\n",
    "valor = 10\n",
    "print(f\"Valor inicial: {valor}\")\n",
    "\n",
    "# Asignación simple\n",
    "valor = 20\n",
    "print(f\"Después de valor = 20: {valor}\")\n",
    "\n",
    "# Suma y asignación\n",
    "valor = valor + 5\n",
    "valor += 5  # Equivale a: valor = valor + 5\n",
    "print(f\"Después de valor += 5: {valor}\")\n",
    "\n",
    "# Resta y asignación\n",
    "valor -= 3  # Equivale a: valor = valor - 3\n",
    "print(f\"Después de valor -= 3: {valor}\")\n",
    "\n",
    "# Multiplicación y asignación\n",
    "valor *= 2  # Equivale a: valor = valor * 2\n",
    "print(f\"Después de valor *= 2: {valor}\")\n",
    "\n",
    "# División y asignación\n",
    "valor /= 4  # Equivale a: valor = valor / 4\n",
    "print(f\"Después de valor /= 4: {valor}\")\n",
    "\n",
    "valor //= 2  # Equivale a: valor = valor // 2\n",
    "print(f\"Después de valor //= 2: {valor}\")\n",
    "\n",
    "# Módulo y asignación\n",
    "valor %= 3  # Equivale a: valor = valor % 3\n",
    "print(f\"Después de valor %= 3: {valor}\")\n",
    "\n",
    "# Potencia y asignación\n",
    "valor **= 3  # Equivale a: valor = valor ** 3\n",
    "print(f\"Después de valor **= 3: {valor}\")\n"
   ],
   "id": "33e27998a37c2298",
   "outputs": [
    {
     "name": "stdout",
     "output_type": "stream",
     "text": [
      "Valor inicial: 10\n",
      "Después de valor = 20: 20\n",
      "Después de valor += 5: 30\n",
      "Después de valor -= 3: 27\n",
      "Después de valor *= 2: 54\n",
      "Después de valor /= 4: 13.5\n",
      "Después de valor //= 2: 6.0\n",
      "2\n"
     ]
    }
   ],
   "execution_count": 2
  },
  {
   "metadata": {},
   "cell_type": "code",
   "outputs": [],
   "execution_count": null,
   "source": [
    "# ## 5. Operadores de Identidad\n",
    "#\n",
    "# Se utilizan para comparar si dos variables apuntan al mismo objeto en memoria.\n"
   ],
   "id": "1f76908b613764d9"
  },
  {
   "metadata": {
    "ExecuteTime": {
     "end_time": "2025-09-09T23:31:17.828464Z",
     "start_time": "2025-09-09T23:31:17.813504Z"
    }
   },
   "cell_type": "code",
   "source": [
    "# Operadores de Identidad\n",
    "lista1 = [1, 2, 3]\n",
    "lista2 = [1, 2, 3]\n",
    "lista3 = lista1\n",
    "\n",
    "print(\"Listas:\")\n",
    "print(f\"lista1 = {lista1}\")\n",
    "print(f\"lista2 = {lista2}\")\n",
    "print(f\"lista3 = lista1 (misma referencia)\")\n",
    "print()\n",
    "\n",
    "# is - True si ambas variables apuntan al mismo objeto\n",
    "print(f\"lista1 is lista2: {lista1 is lista2}\")  # False - diferentes objetos\n",
    "print(f\"lista1 is lista3: {lista1 is lista3}\")  # True - mismo objeto\n",
    "\n",
    "# is not - True si las variables NO apuntan al mismo objeto\n",
    "print(f\"lista1 is not lista2: {lista1 is not lista2}\")  # True\n",
    "print(f\"lista1 is not lista3: {lista1 is not lista3}\")  # False\n",
    "\n",
    "# Comparación con números pequeños (Python optimiza números pequeños)\n",
    "num1 = 5\n",
    "num2 = 5\n",
    "print(f\"\\nnum1 = {num1}, num2 = {num2}\")\n",
    "print(f\"num1 is num2: {num1 is num2}\")  # True - Python reutiliza objetos pequeños\n"
   ],
   "id": "9a31c36a076dfb00",
   "outputs": [
    {
     "name": "stdout",
     "output_type": "stream",
     "text": [
      "Listas:\n",
      "lista1 = [1, 2, 3]\n",
      "lista2 = [1, 2, 3]\n",
      "lista3 = lista1 (misma referencia)\n",
      "\n",
      "lista1 is lista2: False\n",
      "lista1 is lista3: True\n",
      "lista1 is not lista2: True\n",
      "lista1 is not lista3: False\n",
      "\n",
      "num1 = 5, num2 = 5\n",
      "num1 is num2: True\n"
     ]
    }
   ],
   "execution_count": 1
  },
  {
   "metadata": {},
   "cell_type": "code",
   "outputs": [],
   "execution_count": null,
   "source": [
    "# ## 6. Operadores de Membresía\n",
    "#\n",
    "# Se utilizan para verificar si un valor está presente en una secuencia.\n"
   ],
   "id": "b9d4022770ea94a9"
  },
  {
   "metadata": {
    "ExecuteTime": {
     "end_time": "2025-09-10T00:13:12.224445Z",
     "start_time": "2025-09-10T00:13:12.216466Z"
    }
   },
   "cell_type": "code",
   "source": [
    "# Operadores de Membresía\n",
    "frutas = [\"manzana\", \"banana\", \"naranja\", \"uva\"]\n",
    "texto = \"Python es genial\"\n",
    "\n",
    "print(f\"Frutas: {frutas}\")\n",
    "print(f\"Texto: '{texto}'\")\n"
   ],
   "id": "450916475fcdd4a3",
   "outputs": [
    {
     "name": "stdout",
     "output_type": "stream",
     "text": [
      "Frutas: ['manzana', 'banana', 'naranja', 'uva']\n",
      "Texto: 'Python es genial'\n",
      "\n",
      "0\n",
      "manzana\n",
      "1\n",
      "banana\n",
      "2\n",
      "naranja\n",
      "3\n",
      "uva\n",
      "manzana\n",
      "banana\n",
      "naranja\n",
      "uva\n"
     ]
    }
   ],
   "execution_count": 6
  },
  {
   "metadata": {},
   "cell_type": "code",
   "outputs": [],
   "execution_count": null,
   "source": [
    "# ## 7. Operadores Bitwise (A nivel de bits)\n",
    "#\n",
    "# Se utilizan para realizar operaciones a nivel de bits.\n"
   ],
   "id": "b4b2b6f94c1e192"
  },
  {
   "metadata": {},
   "cell_type": "code",
   "outputs": [],
   "execution_count": null,
   "source": [
    "# Operadores Bitwise\n",
    "a = 12  # En binario: 1100\n",
    "b = 7   # En binario: 0111\n",
    "\n",
    "print(f\"a = {a} (binario: {bin(a)})\")\n",
    "print(f\"b = {b} (binario: {bin(b)})\")\n",
    "print()\n",
    "\n",
    "# AND bitwise\n",
    "and_result = a & b\n",
    "print(f\"a & b = {and_result} (binario: {bin(and_result)})\")\n",
    "\n",
    "# OR bitwise\n",
    "or_result = a | b\n",
    "print(f\"a | b = {or_result} (binario: {bin(or_result)})\")\n",
    "\n",
    "# XOR bitwise\n",
    "xor_result = a ^ b\n",
    "print(f\"a ^ b = {xor_result} (binario: {bin(xor_result)})\")\n",
    "\n",
    "# NOT bitwise\n",
    "not_a = ~a\n",
    "print(f\"~a = {not_a}\")\n",
    "\n",
    "# Desplazamiento a la izquierda\n",
    "left_shift = a << 2\n",
    "print(f\"a << 2 = {left_shift} (binario: {bin(left_shift)})\")\n",
    "\n",
    "# Desplazamiento a la derecha\n",
    "right_shift = a >> 2\n",
    "print(f\"a >> 2 = {right_shift} (binario: {bin(right_shift)})\")\n"
   ],
   "id": "7c2cd0ec11b10f5a"
  },
  {
   "metadata": {},
   "cell_type": "code",
   "outputs": [],
   "execution_count": null,
   "source": [
    "# ## 8. Precedencia de Operadores\n",
    "#\n",
    "# Python tiene un orden específico para evaluar los operadores.\n"
   ],
   "id": "a5f3f254764058d0"
  },
  {
   "metadata": {},
   "cell_type": "code",
   "outputs": [],
   "execution_count": null,
   "source": [
    "# Precedencia de Operadores\n",
    "# De mayor a menor precedencia:\n",
    "\n",
    "print(\"Ejemplos de precedencia:\")\n",
    "\n",
    "# 1. Paréntesis tienen la mayor precedencia\n",
    "resultado1 = 2 + 3 * 4\n",
    "resultado2 = (2 + 3) * 4\n",
    "print(f\"2 + 3 * 4 = {resultado1}\")\n",
    "print(f\"(2 + 3) * 4 = {resultado2}\")\n",
    "\n",
    "# 2. Potencia tiene mayor precedencia que multiplicación\n",
    "resultado3 = 2 * 3 ** 2\n",
    "resultado4 = (2 * 3) ** 2\n",
    "print(f\"2 * 3 ** 2 = {resultado3}\")\n",
    "print(f\"(2 * 3) ** 2 = {resultado4}\")\n",
    "\n",
    "# 3. Operadores lógicos\n",
    "resultado5 = True or False and False\n",
    "resultado6 = (True or False) and False\n",
    "print(f\"True or False and False = {resultado5}\")\n",
    "print(f\"(True or False) and False = {resultado6}\")\n"
   ],
   "id": "dfb29dd8e4e1749c"
  },
  {
   "metadata": {},
   "cell_type": "code",
   "outputs": [],
   "execution_count": null,
   "source": "# ## 9. Ejercicios Prácticos\n",
   "id": "5e46195da324cecd"
  },
  {
   "metadata": {},
   "cell_type": "code",
   "outputs": [],
   "execution_count": null,
   "source": [
    "# Ejercicio 1: Calculadora básica\n",
    "print(\"=== EJERCICIO 1: Calculadora Básica ===\")\n",
    "num1 = 15\n",
    "num2 = 4\n",
    "\n",
    "print(f\"Números: {num1} y {num2}\")\n",
    "print(f\"Suma: {num1 + num2}\")\n",
    "print(f\"Resta: {num1 - num2}\")\n",
    "print(f\"Multiplicación: {num1 * num2}\")\n",
    "print(f\"División: {num1 / num2:.2f}\")\n",
    "print(f\"División entera: {num1 // num2}\")\n",
    "print(f\"Resto: {num1 % num2}\")\n",
    "print(f\"Potencia: {num1 ** num2}\")\n"
   ],
   "id": "e542dbbe7209ed5a"
  },
  {
   "metadata": {},
   "cell_type": "code",
   "outputs": [],
   "execution_count": null,
   "source": [
    "# Ejercicio 2: Verificar si un número está en un rango\n",
    "print(\"\\n=== EJERCICIO 2: Número en Rango ===\")\n",
    "numero = 25\n",
    "limite_inferior = 20\n",
    "limite_superior = 30\n",
    "\n",
    "en_rango = numero >= limite_inferior and numero <= limite_superior\n",
    "print(f\"¿El número {numero} está entre {limite_inferior} y {limite_superior}?\")\n",
    "print(f\"Respuesta: {en_rango}\")\n",
    "\n",
    "# Forma alternativa más elegante\n",
    "en_rango_alt = limite_inferior <= numero <= limite_superior\n",
    "print(f\"Forma alternativa: {en_rango_alt}\")\n"
   ],
   "id": "43889e2b76750190"
  },
  {
   "metadata": {},
   "cell_type": "code",
   "outputs": [],
   "execution_count": null,
   "source": [
    "# Ejercicio 3: Verificar propiedades de un número\n",
    "print(\"\\n=== EJERCICIO 3: Propiedades de un Número ===\")\n",
    "numero = 24\n",
    "\n",
    "es_par = numero % 2 == 0\n",
    "es_multiplo_3 = numero % 3 == 0\n",
    "es_multiplo_5 = numero % 5 == 0\n",
    "es_positivo = numero > 0\n",
    "\n",
    "print(f\"Número: {numero}\")\n",
    "print(f\"¿Es par?: {es_par}\")\n",
    "print(f\"¿Es múltiplo de 3?: {es_multiplo_3}\")\n",
    "print(f\"¿Es múltiplo de 5?: {es_multiplo_5}\")\n",
    "print(f\"¿Es positivo?: {es_positivo}\")\n",
    "print(f\"¿Es par Y múltiplo de 3?: {es_par and es_multiplo_3}\")\n",
    "print(f\"¿Es múltiplo de 3 O múltiplo de 5?: {es_multiplo_3 or es_multiplo_5}\")\n"
   ],
   "id": "3f584726aef3f9cd"
  },
  {
   "metadata": {},
   "cell_type": "code",
   "outputs": [],
   "execution_count": null,
   "source": [
    "# ## 10. Consejos y Buenas Prácticas\n",
    "#\n",
    "# - Usa paréntesis para hacer las expresiones más claras\n",
    "# - Los operadores `is` e `is not` se usan principalmente con `None`, `True`, y `False`\n",
    "# - Para comparar valores, usa `==` y `!=`\n",
    "# - Para comparar identidad de objetos, usa `is` e `is not`\n",
    "# - Los operadores de asignación compuesta (`+=`, `-=`, etc.) son más eficientes y legibles\n"
   ],
   "id": "4eb71625fcdbb85f"
  },
  {
   "metadata": {},
   "cell_type": "code",
   "outputs": [],
   "execution_count": null,
   "source": [
    "# Ejemplos de buenas prácticas\n",
    "print(\"=== BUENAS PRÁCTICAS ===\")\n",
    "\n",
    "# ✅ Bueno: Usar paréntesis para claridad\n",
    "resultado = (a + b) * (c - d) if 'c' in locals() and 'd' in locals() else (10 + 5) * (8 - 3)\n",
    "print(f\"Expresión clara con paréntesis: {resultado}\")\n",
    "\n",
    "# ✅ Bueno: Comparar con None\n",
    "valor = None\n",
    "if valor is None:\n",
    "    print(\"El valor es None\")\n",
    "\n",
    "# ✅ Bueno: Usar operadores de asignación compuesta\n",
    "contador = 0\n",
    "contador += 1  # Mejor que: contador = contador + 1\n",
    "print(f\"Contador: {contador}\")\n",
    "\n",
    "# ✅ Bueno: Encadenar comparaciones\n",
    "edad = 25\n",
    "if 18 <= edad <= 65:\n",
    "    print(\"Edad en rango laboral\")\n",
    "\n",
    "print(\"\\n¡Clase sobre operadores completada! 🎉\")\n"
   ],
   "id": "17af9d4dd50a54f8"
  }
 ],
 "metadata": {
  "kernelspec": {
   "display_name": "Python 3",
   "language": "python",
   "name": "python3"
  },
  "language_info": {
   "codemirror_mode": {
    "name": "ipython",
    "version": 2
   },
   "file_extension": ".py",
   "mimetype": "text/x-python",
   "name": "python",
   "nbconvert_exporter": "python",
   "pygments_lexer": "ipython2",
   "version": "2.7.6"
  }
 },
 "nbformat": 4,
 "nbformat_minor": 5
}
